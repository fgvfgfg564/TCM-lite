{
 "cells": [
  {
   "cell_type": "code",
   "execution_count": 1,
   "metadata": {},
   "outputs": [],
   "source": [
    "import matplotlib.pyplot as plt\n",
    "import json\n",
    "\n",
    "%matplotlib inline"
   ]
  },
  {
   "cell_type": "code",
   "execution_count": 2,
   "metadata": {},
   "outputs": [],
   "source": [
    "# Load main data\n",
    "\n",
    "import os\n",
    "from dataclasses import dataclass\n",
    "import numpy as np\n",
    "\n",
    "\n",
    "@dataclass\n",
    "class Data:\n",
    "    time: float\n",
    "    psnr: float\n",
    "    legal: bool\n",
    "    stage: str\n",
    "    ans: np.ndarray\n",
    "\n",
    "\n",
    "levels = range(7)\n",
    "qscales = [0.3, 0.4, 0.5, 0.6, 0.7]\n",
    "timepoint = range(0, 600, 10)\n",
    "\n",
    "base_dir = (\n",
    "    \"/home/xyhang/projects/VCIP2023-grand-challenge/experiments/SAv1/visualize/\"\n",
    ")\n",
    "\n",
    "# Load bpp info\n",
    "\n",
    "result_file = \"results_visualize.json\"\n",
    "\n",
    "with open(result_file, \"r\") as f:\n",
    "    result_data = json.load(f)"
   ]
  },
  {
   "cell_type": "code",
   "execution_count": 3,
   "metadata": {},
   "outputs": [],
   "source": [
    "import matplotlib"
   ]
  },
  {
   "cell_type": "code",
   "execution_count": 4,
   "metadata": {},
   "outputs": [],
   "source": [
    "filenames = [\n",
    "    \"IMG_1813\",\n",
    "    \"IMG_3227\",\n",
    "    \"IMG_3515\",\n",
    "    \"IMG_3799\",\n",
    "    \"IMG_4700\",\n",
    "    \"IMG_6726\",\n",
    "    \"IMG_8176\",\n",
    "]\n",
    "\n",
    "def read_timeline_data(filename):\n",
    "    jsonfile = os.path.join(base_dir, \"PSNR/level-6/time_limit-1200/qscale-0.3\", f\"{filename}_statistics.json\")\n",
    "    with open(jsonfile, 'r') as f:\n",
    "        data = json.load(f)\n",
    "        results = []\n",
    "        for step_results in data[\"step_results\"]:\n",
    "            results.append(\n",
    "                Data(\n",
    "                    psnr=-step_results[\"best_loss\"],\n",
    "                    legal=step_results[\"legal\"],\n",
    "                    time=step_results[\"time\"],\n",
    "                    stage=step_results[\"stage\"],\n",
    "                    ans=step_results[\"best_results\"],\n",
    "                )\n",
    "            )\n",
    "        return results"
   ]
  },
  {
   "cell_type": "code",
   "execution_count": 5,
   "metadata": {},
   "outputs": [],
   "source": [
    "import site\n",
    "\n",
    "site.addsitedir(\"/home/xyhang/projects/VCIP2023-grand-challenge/\")\n",
    "\n",
    "from tools.bdrate import BD_RATE\n",
    "\n",
    "timestep = 10\n",
    "\n",
    "bpps_time = [[] for k in range(len(filenames))] # 100 200 300 400 500 600\n",
    "psnrs_time = [[] for k in range(len(filenames))]\n",
    "islegal_time = [[] for k in range(len(filenames))]\n",
    "ans_time = [[] for k in range(len(filenames))]\n",
    "\n",
    "for i, filename in enumerate(filenames):\n",
    "    bpp = result_data[filename]['bpp']\n",
    "    results = read_timeline_data(filename)\n",
    "    next_time = timestep\n",
    "    for r in results:\n",
    "        if r.time > next_time:\n",
    "            bpps_time[i].append(bpp)\n",
    "            psnrs_time[i].append(r.psnr)\n",
    "            islegal_time[i].append(r.legal)\n",
    "            ans_time[i].append(r.ans)\n",
    "            next_time += timestep"
   ]
  },
  {
   "cell_type": "code",
   "execution_count": 6,
   "metadata": {},
   "outputs": [],
   "source": [
    "from src.fileio import FileIO\n",
    "\n",
    "qscale_idx = 0\n",
    "\n",
    "fileio = FileIO(h=4480, w=6720, ctu_size=512, mosaic=False)"
   ]
  },
  {
   "cell_type": "code",
   "execution_count": 7,
   "metadata": {},
   "outputs": [
    {
     "data": {
      "text/plain": [
       "126"
      ]
     },
     "execution_count": 7,
     "metadata": {},
     "output_type": "execute_result"
    }
   ],
   "source": [
    "len(fileio.block_indexes)"
   ]
  },
  {
   "cell_type": "code",
   "execution_count": 8,
   "metadata": {},
   "outputs": [],
   "source": [
    "def hex_to_bgr(hex_color):\n",
    "    # Convert hex to RGB tuple\n",
    "    hex_color = hex_color.lstrip(\"#\")\n",
    "    rgb = tuple(int(hex_color[i : i + 2], 16) for i in (0, 2, 4))\n",
    "    # Convert RGB to BGR\n",
    "    bgr = (rgb[2], rgb[1], rgb[0])\n",
    "    return bgr\n",
    "\n",
    "colors_hex = [\"#D6D9D9\", \"#ADA091\", \"#6D1E0D\", \"#A83411\", \"#39150D\", \"#C4C78D\"]\n",
    "colors = [hex_to_bgr(color) for color in colors_hex]"
   ]
  },
  {
   "cell_type": "code",
   "execution_count": 9,
   "metadata": {},
   "outputs": [
    {
     "data": {
      "text/plain": [
       "[(217, 217, 214),\n",
       " (145, 160, 173),\n",
       " (13, 30, 109),\n",
       " (17, 52, 168),\n",
       " (13, 21, 57),\n",
       " (141, 199, 196)]"
      ]
     },
     "execution_count": 9,
     "metadata": {},
     "output_type": "execute_result"
    }
   ],
   "source": [
    "colors"
   ]
  },
  {
   "cell_type": "code",
   "execution_count": 10,
   "metadata": {},
   "outputs": [],
   "source": [
    "import cv2\n",
    "\n",
    "def generate_chosen_result_in_img(result):\n",
    "    image = np.zeros((4480, 6720, 3), np.uint8)\n",
    "    for i, bb in zip(result, fileio.block_indexes):\n",
    "        cv2.rectangle(\n",
    "            image, (bb[1], bb[0]), (bb[3], bb[2]), color=colors[i], thickness=cv2.FILLED\n",
    "        )\n",
    "        cv2.rectangle(\n",
    "            image, (bb[1], bb[0]), (bb[3], bb[2]), color=(0, 0, 0), thickness=10\n",
    "        )\n",
    "    return image"
   ]
  },
  {
   "cell_type": "code",
   "execution_count": 11,
   "metadata": {},
   "outputs": [
    {
     "name": "stdout",
     "output_type": "stream",
     "text": [
      "120\n"
     ]
    },
    {
     "name": "stderr",
     "output_type": "stream",
     "text": [
      "libpng warning: iCCP: known incorrect sRGB profile\n"
     ]
    },
    {
     "name": "stdout",
     "output_type": "stream",
     "text": [
      "0 4\n",
      "0 9\n",
      "0 14\n",
      "0 19\n",
      "0 24\n",
      "0 29\n",
      "0 34\n",
      "0 39\n",
      "0 44\n",
      "0 49\n",
      "0 54\n",
      "0 59\n",
      "0 64\n",
      "0 69\n",
      "0 74\n",
      "0 79\n",
      "0 84\n",
      "0 89\n",
      "0 94\n",
      "0 99\n",
      "0 104\n",
      "0 109\n",
      "0 114\n",
      "0 119\n",
      "120\n"
     ]
    },
    {
     "name": "stderr",
     "output_type": "stream",
     "text": [
      "libpng warning: iCCP: known incorrect sRGB profile\n"
     ]
    },
    {
     "name": "stdout",
     "output_type": "stream",
     "text": [
      "1 4\n",
      "1 9\n",
      "1 14\n",
      "1 19\n",
      "1 24\n",
      "1 29\n",
      "1 34\n",
      "1 39\n",
      "1 44\n",
      "1 49\n",
      "1 54\n",
      "1 59\n",
      "1 64\n",
      "1 69\n",
      "1 74\n",
      "1 79\n",
      "1 84\n",
      "1 89\n",
      "1 94\n",
      "1 99\n",
      "1 104\n",
      "1 109\n",
      "1 114\n",
      "1 119\n",
      "120\n"
     ]
    },
    {
     "name": "stderr",
     "output_type": "stream",
     "text": [
      "libpng warning: iCCP: known incorrect sRGB profile\n"
     ]
    },
    {
     "name": "stdout",
     "output_type": "stream",
     "text": [
      "2 4\n",
      "2 9\n",
      "2 14\n",
      "2 19\n",
      "2 24\n",
      "2 29\n",
      "2 34\n",
      "2 39\n",
      "2 44\n",
      "2 49\n",
      "2 54\n",
      "2 59\n",
      "2 64\n",
      "2 69\n",
      "2 74\n",
      "2 79\n",
      "2 84\n",
      "2 89\n",
      "2 94\n",
      "2 99\n",
      "2 104\n",
      "2 109\n",
      "2 114\n",
      "2 119\n",
      "120\n"
     ]
    },
    {
     "name": "stderr",
     "output_type": "stream",
     "text": [
      "libpng warning: iCCP: known incorrect sRGB profile\n"
     ]
    },
    {
     "name": "stdout",
     "output_type": "stream",
     "text": [
      "3 4\n",
      "3 9\n",
      "3 14\n",
      "3 19\n",
      "3 24\n",
      "3 29\n",
      "3 34\n",
      "3 39\n",
      "3 44\n",
      "3 49\n",
      "3 54\n",
      "3 59\n",
      "3 64\n",
      "3 69\n"
     ]
    }
   ],
   "source": [
    "for i, filename in enumerate(filenames):\n",
    "    print(len(ans_time[i]))\n",
    "    original_image = cv2.imread(\n",
    "        f\"/home/xyhang/projects/VCIP2023-grand-challenge/images/6720x4480/{filename}.png\"\n",
    "    )\n",
    "    for d in range(4, len(ans_time[i]), 5):\n",
    "        print(i, d)\n",
    "        image_raw = generate_chosen_result_in_img(ans_time[i][d])\n",
    "        image_merged = cv2.addWeighted(original_image, 0.3, image_raw, 0.7, 0)\n",
    "        cv2.imwrite(f\"output/{filename}_{d}.png\", image_merged)"
   ]
  }
 ],
 "metadata": {
  "kernelspec": {
   "display_name": "SARDCO",
   "language": "python",
   "name": "python3"
  },
  "language_info": {
   "codemirror_mode": {
    "name": "ipython",
    "version": 3
   },
   "file_extension": ".py",
   "mimetype": "text/x-python",
   "name": "python",
   "nbconvert_exporter": "python",
   "pygments_lexer": "ipython3",
   "version": "3.9.17"
  }
 },
 "nbformat": 4,
 "nbformat_minor": 2
}
