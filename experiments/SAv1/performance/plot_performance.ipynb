{
 "cells": [
  {
   "cell_type": "code",
   "execution_count": 1,
   "metadata": {},
   "outputs": [],
   "source": [
    "import matplotlib.pyplot as plt\n",
    "\n",
    "%matplotlib inline"
   ]
  },
  {
   "cell_type": "code",
   "execution_count": 2,
   "metadata": {},
   "outputs": [],
   "source": [
    "dataset = 'classa'"
   ]
  },
  {
   "cell_type": "code",
   "execution_count": 3,
   "metadata": {},
   "outputs": [],
   "source": [
    "# Read our results\n",
    "\n",
    "import json\n",
    "\n",
    "def combine_dict(dict1, dict2):\n",
    "    for key in dict2.keys():\n",
    "        if key in dict1:\n",
    "            dict1[key] = combine_dict(dict1[key], dict2[key])\n",
    "        else:\n",
    "            dict1[key] = dict2[key]\n",
    "    return dict1\n",
    "\n",
    "def combine_dicts(dicts):\n",
    "    u = None\n",
    "    for d in dicts:\n",
    "        if u is None:\n",
    "            u = d\n",
    "        else:\n",
    "            u = combine_dict(u, d)\n",
    "    return u"
   ]
  },
  {
   "cell_type": "code",
   "execution_count": 4,
   "metadata": {},
   "outputs": [],
   "source": [
    "import site\n",
    "\n",
    "site.addsitedir(\"/home/xyhang/projects/VCIP2023-grand-challenge/\")\n",
    "\n",
    "from tools.bdrate import BD_RATE, BD_PSNR"
   ]
  },
  {
   "cell_type": "code",
   "execution_count": 5,
   "metadata": {},
   "outputs": [],
   "source": [
    "from dataclasses import dataclass\n",
    "from typing_extensions import TypeAlias, List, Dict\n",
    "import numpy as np\n",
    "\n",
    "@dataclass\n",
    "class ResultUnit:\n",
    "    r: float\n",
    "    d: float\n",
    "    t: float\n",
    "\n",
    "ImageResults: TypeAlias = List[ResultUnit]\n",
    "\n",
    "class DatasetResults:\n",
    "    def __init__(self):\n",
    "        self.img_results: Dict[str, ImageResults] = {}\n",
    "\n",
    "    def update_image_result(self, img_name, r, d, t):\n",
    "        self.img_results.setdefault(img_name, []).append(ResultUnit(r=r, d=d, t=t))\n",
    "\n",
    "    def sort(self):\n",
    "        for k in self.img_results.keys():\n",
    "            self.img_results[k].sort(key=lambda x: x.r)\n",
    "\n",
    "    @property\n",
    "    def avg_r(self) -> float:\n",
    "        self.sort()\n",
    "        results = []\n",
    "        for rs in zip(*list(self.img_results.values())):\n",
    "            results.append(np.mean([x.r for x in rs]))\n",
    "        return results\n",
    "\n",
    "    @property\n",
    "    def avg_d(self) -> float:\n",
    "        self.sort()\n",
    "        results = []\n",
    "        for rs in zip(*list(self.img_results.values())):\n",
    "            results.append(np.mean([x.d for x in rs]))\n",
    "        return results\n",
    "\n",
    "    @property\n",
    "    def avg_t(self) -> float:\n",
    "        self.sort()\n",
    "        results = []\n",
    "        for rs in zip(*list(self.img_results.values())):\n",
    "            results.append(np.mean([x.t for x in rs]))\n",
    "        return results\n",
    "\n",
    "    def bd_rate(self, anchor):\n",
    "        self.sort()\n",
    "        anchor.sort()\n",
    "        ans = []\n",
    "        for filename, data in self.img_results.items():\n",
    "            if filename not in anchor.img_results:\n",
    "                raise ValueError(f\"filename {filename} not in anchor\")\n",
    "            data_anchor = anchor.img_results[filename]\n",
    "            R1 = [x.r for x in data_anchor]\n",
    "            D1 = [x.d for x in data_anchor]\n",
    "            R2 = [x.r for x in data]\n",
    "            D2 = [x.d for x in data]\n",
    "            bd_rate = BD_RATE(R1, D1, R2, D2)\n",
    "            print(filename, bd_rate)\n",
    "            ans.append(bd_rate)\n",
    "        return np.mean(ans)\n",
    "\n",
    "    def bd_psnr(self, anchor):\n",
    "        self.sort()\n",
    "        anchor.sort()\n",
    "        ans = []\n",
    "        for filename, data in self.img_results.items():\n",
    "            if filename not in anchor.img_results:\n",
    "                raise ValueError(f\"filename {filename} not in anchor\")\n",
    "            data_anchor = anchor.img_results[filename]\n",
    "            R1 = [x.r for x in data_anchor]\n",
    "            D1 = [x.d for x in data_anchor]\n",
    "            R2 = [x.r for x in data]\n",
    "            D2 = [x.d for x in data]\n",
    "            bd_rate = BD_PSNR(R1, D1, R2, D2)\n",
    "            ans.append(bd_rate)\n",
    "        return np.mean(ans)"
   ]
  },
  {
   "cell_type": "code",
   "execution_count": 6,
   "metadata": {},
   "outputs": [],
   "source": [
    "def read_json(filename):\n",
    "    with open(filename, 'r') as f:\n",
    "        return json.load(f)"
   ]
  },
  {
   "cell_type": "code",
   "execution_count": 7,
   "metadata": {},
   "outputs": [],
   "source": [
    "import glob\n",
    "\n",
    "results = glob.glob(f\"{dataset}/*.json\")\n",
    "\n",
    "data_ours = combine_dicts([read_json(r) for r in results])"
   ]
  },
  {
   "cell_type": "code",
   "execution_count": 8,
   "metadata": {},
   "outputs": [],
   "source": [
    "speedups = [0.01, 0.25, 0.5, 0.75, 1.0, 1.25, 1.5, 2.0, 3.0]\n",
    "qscales = [0.3, 0.4, 0.5, 0.6, 0.7]"
   ]
  },
  {
   "cell_type": "code",
   "execution_count": 9,
   "metadata": {},
   "outputs": [],
   "source": [
    "ours_results = {k: DatasetResults() for k in speedups}\n",
    "\n",
    "for speedup in speedups:\n",
    "    for qscale in qscales:\n",
    "        glob_results = data_ours[f\"qscale={qscale}\"][f\"speedup={speedup}\"]\n",
    "        for filename, result in glob_results.items():\n",
    "            if filename[:3] != \"avg\":\n",
    "                ours_results[speedup].update_image_result(\n",
    "                    filename, result[\"bpp\"], result[\"PSNR\"], result[\"t_dec\"]\n",
    "                )"
   ]
  },
  {
   "cell_type": "code",
   "execution_count": 10,
   "metadata": {},
   "outputs": [],
   "source": [
    "import pandas as pd\n",
    "\n",
    "def read_xls(file_path, sheet_name):\n",
    "    df = pd.read_excel(file_path, sheet_name=sheet_name)\n",
    "    return df"
   ]
  },
  {
   "cell_type": "code",
   "execution_count": 11,
   "metadata": {},
   "outputs": [],
   "source": [
    "anchors = ['bpg', 'evc', 'jpeg', 'mlic', 'qarv', 'tcm', 'vtm', 'webp']\n",
    "\n",
    "anchor_results: Dict[str, DatasetResults] = {k: DatasetResults() for k in anchors}\n",
    "\n",
    "anchors_r = {}\n",
    "anchors_d = {}\n",
    "anchors_t = {}\n",
    "\n",
    "for anchor in anchors:\n",
    "    if anchor == 'vtm':\n",
    "        xls_data: pd.DataFrame = read_xls(f\"VTM.xls\", dataset)\n",
    "        filename = None\n",
    "        for index, x in xls_data.iterrows():\n",
    "            if isinstance(x.Filename, str):\n",
    "                filename = x.Filename\n",
    "            anchor_results[anchor].update_image_result(\n",
    "                filename, x.bpp, x[\"RGB psnr\"], x[\"Dec Time\"]\n",
    "            )\n",
    "    else:\n",
    "        anchor_data = read_json(f\"../../anchors/{dataset}/{anchor}/results.json\")\n",
    "        if anchor == 'bpg':\n",
    "            for t1 in anchor_data.values():\n",
    "                for t2 in t1.values():\n",
    "                    for filename, result in t2.items():\n",
    "                        if filename[:3] != \"avg\":\n",
    "                            anchor_results[anchor].update_image_result(\n",
    "                                filename, result[\"bpp\"], result[\"PSNR\"], result[\"t_dec\"]\n",
    "                            )\n",
    "        else:\n",
    "            for t2 in anchor_data.values():\n",
    "                for filename, result in t2.items():\n",
    "                    if filename[:3] != \"avg\":\n",
    "                        anchor_results[anchor].update_image_result(\n",
    "                            filename, result[\"bpp\"], result[\"PSNR\"], result[\"t_dec\"]\n",
    "                        )"
   ]
  },
  {
   "cell_type": "code",
   "execution_count": 21,
   "metadata": {},
   "outputs": [
    {
     "name": "stdout",
     "output_type": "stream",
     "text": [
      "bpg [28.600891832295385, 30.283618175768183, 31.84880266962779, 33.42348046976658, 35.41197474179996, 37.32295456407798, 39.584965237759874, 41.96530477830104, 44.250613988720694, 46.00518731620989] [0.02452186149792006, 0.04494741720106713, 0.07837762345083721, 0.13798181713797267, 0.25805898984201714, 0.44998837563245697, 0.7755209608764161, 1.267312805276002, 1.921515299675548, 2.6939712210928195]\n",
      "evc [28.781016547265974, 29.336897958103147, 30.072602981113718, 30.873529989305464, 31.753680498682783] [0.1595719900978699, 0.21096965133019183, 0.2739667873912793, 0.39770654514456005, 0.5809845311167988]\n",
      "jpeg [23.309772316399542, 28.92682537812325, 32.062470370315836, 33.68431287883056, 34.596312223656305, 35.26604464032583, 35.86974556623233, 36.71852954107853, 37.86821045357319, 40.00254376856817, 46.5620160918895] [0.1438243301156751, 0.2145674189438238, 0.31969320591908806, 0.4230462091250787, 0.5070015276522168, 0.5917880942920993, 0.6869732393814271, 0.8403496271193557, 1.0949162057036113, 1.7253145710898437, 5.4773079475526645]\n",
      "mlic [31.66482633976472, 31.66482633976472, 31.66482633976472, 31.66482633976472, 31.66482633976472] [0.7766324519594084, 0.7766324519594084, 0.7766324519594084, 0.7766324519594084, 0.7766324519594084]\n",
      "qarv [33.257945705238306, 34.20929024992717, 35.19234367090794, 36.19331104435854, 37.21055724102589, 38.26469314970903, 39.38473468401365, 40.567410877628454, 41.82688984153999, 43.19946053503287, 44.54035932574006] [0.10580958548987589, 0.1386521803140907, 0.18478772487780534, 0.24449215155479787, 0.32007765683380174, 0.4172855433218449, 0.5428606571513602, 0.7007721391551799, 0.8967104410324298, 1.1389409274436832, 1.4025667505569137]\n",
      "tcm [32.51943467560741, 32.531031305624374, 32.52100838724109, 32.53197400275203, 32.53270361327462] [1.0651561611688647, 1.0651561611688647, 1.0651561611688647, 1.0651561611688647, 1.0651561611688647]\n",
      "vtm [29.133491220416662, 31.780559950833332, 34.473007242499996, 37.25918194208333, 40.88302086041667] [0.020260740708333332, 0.050663311583333336, 0.126382768625, 0.314243807125, 0.7998224783333333]\n",
      "webp [28.90917748588654, 31.67811682202749, 32.69769385832878, 33.61276927469505, 34.37677644569012, 35.01756112156642, 35.57932496446701, 36.1842638788455, 37.60170648871196, 40.42830062785082, 44.388599765830556] [0.06595887402967308, 0.13867341929573776, 0.1894233568076847, 0.2495027986995766, 0.3098573798500714, 0.3728660427064437, 0.4368370614102206, 0.5129319715578176, 0.7330881063317886, 1.3848965959588397, 2.972847740357825]\n"
     ]
    },
    {
     "data": {
      "image/png": "[encoded data removed]",
      "text/plain": [
       "<Figure size 640x480 with 1 Axes>"
      ]
     },
     "metadata": {},
     "output_type": "display_data"
    }
   ],
   "source": [
    "for k, v in anchor_results.items():\n",
    "    print(k, v.avg_d, v.avg_r)\n",
    "    plt.plot(v.avg_r, v.avg_d, label=k, marker='.')\n",
    "\n",
    "for speedup in [1.0]:\n",
    "\n",
    "    plt.plot(\n",
    "        ours_results[speedup].avg_r,\n",
    "        ours_results[speedup].avg_d,\n",
    "        linestyle=\"--\",\n",
    "        label=speedup,\n",
    "    )\n",
    "plt.legend()\n",
    "plt.show()"
   ]
  },
  {
   "cell_type": "code",
   "execution_count": 17,
   "metadata": {},
   "outputs": [
    {
     "name": "stdout",
     "output_type": "stream",
     "text": [
      "DOG_4507 0.6715892648608834\n",
      "DSC07099 8.764764495489686\n",
      "DSC07705 -4.403112620455351\n",
      "DSC08582 8.3447409284793\n",
      "DSC08626 16.34033861096742\n",
      "DSC08672 2.141283113168768\n",
      "DSC08796 5.199929803728898\n",
      "DSC08892 0.4332666375583605\n",
      "DSC08902 25.92206604578482\n",
      "DSC08928 2.553496684733192\n",
      "DSC08936 19.19308050823858\n",
      "DSC_3889 -2.3013400956596652\n",
      "IMG_1813 5.7088071001512475\n",
      "IMG_3227 26.319328047357125\n",
      "IMG_3261 20.25796351028786\n",
      "IMG_3412 -1.4604987385232082\n",
      "IMG_3515 -1.235948203770454\n",
      "IMG_3799 8.540223741036446\n",
      "IMG_4684 1.2522282013875063\n",
      "IMG_4700 0.5307686583082338\n",
      "IMG_6726 3.670101479333443\n",
      "IMG_7136 14.485794736127012\n",
      "IMG_8176 12.332218817001861\n",
      "IMG_8795 33.02895323343249\n"
     ]
    },
    {
     "data": {
      "text/plain": [
       "8.595418498292686"
      ]
     },
     "execution_count": 17,
     "metadata": {},
     "output_type": "execute_result"
    }
   ],
   "source": [
    "anchor_results['qarv'].bd_rate(anchor_results['vtm'])"
   ]
  },
  {
   "cell_type": "code",
   "execution_count": 22,
   "metadata": {},
   "outputs": [
    {
     "data": {
      "text/plain": [
       "{'DOG_4507': [ResultUnit(r=0.6515545590643541, d=18.31984331586294, t=46.39095735549927),\n",
       "  ResultUnit(r=0.6515545590643541, d=18.31984331586294, t=40.086798429489136),\n",
       "  ResultUnit(r=0.6515545590643541, d=18.31984331586294, t=40.90150189399719),\n",
       "  ResultUnit(r=0.6515545590643541, d=18.31984331586294, t=44.65595817565918),\n",
       "  ResultUnit(r=0.6515545590643541, d=18.31984331586294, t=43.850300550460815)],\n",
       " 'DSC07099': [ResultUnit(r=1.1679013333333332, d=38.67762913682394, t=35.69063472747803),\n",
       "  ResultUnit(r=1.1679013333333332, d=38.67762913682394, t=37.63072180747986),\n",
       "  ResultUnit(r=1.1679013333333332, d=38.67762913682394, t=33.5056734085083),\n",
       "  ResultUnit(r=1.1679013333333332, d=38.67762913682394, t=32.8505277633667),\n",
       "  ResultUnit(r=1.1679013333333332, d=38.67762913682394, t=33.15197515487671)],\n",
       " 'DSC07705': [ResultUnit(r=1.3348253333333333, d=39.608809256338404, t=34.56576323509216),\n",
       "  ResultUnit(r=1.3348253333333333, d=39.608809256338404, t=35.264923334121704),\n",
       "  ResultUnit(r=1.3348253333333333, d=39.608809256338404, t=31.540931940078735),\n",
       "  ResultUnit(r=1.3348253333333333, d=39.608809256338404, t=32.59055161476135),\n",
       "  ResultUnit(r=1.3348253333333333, d=39.608809256338404, t=35.36772131919861)],\n",
       " 'DSC08582': [ResultUnit(r=0.961328, d=39.78503396489553, t=35.0340371131897),\n",
       "  ResultUnit(r=0.961328, d=39.78503396489553, t=37.807326793670654),\n",
       "  ResultUnit(r=0.961328, d=39.78503396489553, t=31.685905694961548),\n",
       "  ResultUnit(r=0.961328, d=39.78503396489553, t=33.93603873252869),\n",
       "  ResultUnit(r=0.961328, d=39.78503396489553, t=34.12023997306824)],\n",
       " 'DSC08626': [ResultUnit(r=0.259548, d=44.79245504119329, t=36.97723937034607),\n",
       "  ResultUnit(r=0.259548, d=44.79245504119329, t=32.60930514335632),\n",
       "  ResultUnit(r=0.259548, d=44.79245504119329, t=35.02603363990784),\n",
       "  ResultUnit(r=0.259548, d=44.79245504119329, t=32.05621910095215),\n",
       "  ResultUnit(r=0.259548, d=44.79245504119329, t=34.78835678100586)],\n",
       " 'DSC08672': [ResultUnit(r=1.304429919748286, d=18.5360245940917, t=30.23503303527832),\n",
       "  ResultUnit(r=1.304429919748286, d=18.5360245940917, t=37.288997173309326),\n",
       "  ResultUnit(r=1.304429919748286, d=18.5360245940917, t=36.12791466712952),\n",
       "  ResultUnit(r=1.304429919748286, d=18.5360245940917, t=35.20154142379761),\n",
       "  ResultUnit(r=1.304429919748286, d=18.5360245940917, t=34.19888758659363)],\n",
       " 'DSC08796': [ResultUnit(r=1.6053706666666667, d=36.326914334081934, t=39.564363956451416),\n",
       "  ResultUnit(r=1.6053706666666667, d=36.326914334081934, t=34.22581768035889),\n",
       "  ResultUnit(r=1.6053706666666667, d=36.326914334081934, t=33.48777437210083),\n",
       "  ResultUnit(r=1.6053706666666667, d=36.326914334081934, t=34.62521505355835),\n",
       "  ResultUnit(r=1.6053706666666667, d=36.326914334081934, t=33.57254695892334)],\n",
       " 'DSC08892': [ResultUnit(r=0.755168, d=40.17918159940176, t=36.97253894805908),\n",
       "  ResultUnit(r=0.755168, d=40.17918159940176, t=35.49652051925659),\n",
       "  ResultUnit(r=0.755168, d=40.17918159940176, t=31.91361665725708),\n",
       "  ResultUnit(r=0.755168, d=40.17918159940176, t=32.873573303222656),\n",
       "  ResultUnit(r=0.755168, d=40.17918159940176, t=34.253222703933716)],\n",
       " 'DSC08902': [ResultUnit(r=0.533745855563142, d=41.9206099746459, t=25.30852460861206),\n",
       "  ResultUnit(r=0.533745855563142, d=41.9206099746459, t=32.76751899719238),\n",
       "  ResultUnit(r=0.533745855563142, d=41.9206099746459, t=34.17246723175049),\n",
       "  ResultUnit(r=0.533745855563142, d=41.9206099746459, t=31.883137226104736),\n",
       "  ResultUnit(r=0.533745855563142, d=41.9206099746459, t=34.528404235839844)],\n",
       " 'DSC08928': [ResultUnit(r=0.6860786666666666, d=41.47553791978292, t=30.891571044921875),\n",
       "  ResultUnit(r=0.6860786666666666, d=41.47553791978292, t=31.89189648628235),\n",
       "  ResultUnit(r=0.6860786666666666, d=41.47553791978292, t=35.19478726387024),\n",
       "  ResultUnit(r=0.6860786666666666, d=41.47553791978292, t=33.31951689720154),\n",
       "  ResultUnit(r=0.6860786666666666, d=41.47553791978292, t=35.26861000061035)],\n",
       " 'DSC08936': [ResultUnit(r=0.40253333333333335, d=42.45692243554525, t=37.11128568649292),\n",
       "  ResultUnit(r=0.40253333333333335, d=42.45692243554525, t=35.92376637458801),\n",
       "  ResultUnit(r=0.40253333333333335, d=42.45692243554525, t=34.442461013793945),\n",
       "  ResultUnit(r=0.40253333333333335, d=42.45692243554525, t=33.46674418449402),\n",
       "  ResultUnit(r=0.40253333333333335, d=42.45692243554525, t=33.1475510597229)],\n",
       " 'DSC_3889': [ResultUnit(r=0.6458383607207069, d=38.44737162568502, t=46.96355962753296),\n",
       "  ResultUnit(r=0.6458383607207069, d=38.44737162568502, t=44.36074423789978),\n",
       "  ResultUnit(r=0.6458383607207069, d=38.44737162568502, t=41.12187933921814),\n",
       "  ResultUnit(r=0.6458383607207069, d=38.44737162568502, t=40.87923550605774),\n",
       "  ResultUnit(r=0.6458383607207069, d=38.44737162568502, t=41.775161027908325)],\n",
       " 'IMG_1813': [ResultUnit(r=1.1934013605442177, d=22.409585022711084, t=49.80641484260559),\n",
       "  ResultUnit(r=1.1934013605442177, d=22.409585022711084, t=42.81576895713806),\n",
       "  ResultUnit(r=1.1934013605442177, d=22.409585022711084, t=46.24661135673523),\n",
       "  ResultUnit(r=1.1934013605442177, d=22.409585022711084, t=46.75635623931885),\n",
       "  ResultUnit(r=1.1934013605442177, d=22.409585022711084, t=42.995654582977295)],\n",
       " 'IMG_3227': [ResultUnit(r=0.3417155612244898, d=27.37652113416128, t=46.187459230422974),\n",
       "  ResultUnit(r=0.3417155612244898, d=27.37652113416128, t=46.066492319107056),\n",
       "  ResultUnit(r=0.3417155612244898, d=27.37652113416128, t=46.460633516311646),\n",
       "  ResultUnit(r=0.3417155612244898, d=27.37652113416128, t=44.73072028160095),\n",
       "  ResultUnit(r=0.3417155612244898, d=27.37652113416128, t=45.890292167663574)],\n",
       " 'IMG_3261': [ResultUnit(r=0.35980247186559977, d=20.33846666791372, t=43.943036794662476),\n",
       "  ResultUnit(r=0.35980247186559977, d=20.33846666791372, t=45.64226150512695),\n",
       "  ResultUnit(r=0.35980247186559977, d=20.33846666791372, t=39.757484436035156),\n",
       "  ResultUnit(r=0.35980247186559977, d=20.33846666791372, t=41.682775259017944),\n",
       "  ResultUnit(r=0.35980247186559977, d=20.33846666791372, t=43.288286209106445)],\n",
       " 'IMG_3412': [ResultUnit(r=0.743440413202318, d=15.291712784551905, t=36.79029297828674),\n",
       "  ResultUnit(r=0.743440413202318, d=15.291712784551905, t=43.86645007133484),\n",
       "  ResultUnit(r=0.743440413202318, d=15.291712784551905, t=42.38896322250366),\n",
       "  ResultUnit(r=0.743440413202318, d=15.291712784551905, t=38.702418088912964),\n",
       "  ResultUnit(r=0.743440413202318, d=15.291712784551905, t=41.4908390045166)],\n",
       " 'IMG_3515': [ResultUnit(r=0.8501753826530613, d=26.14814569928579, t=49.365116357803345),\n",
       "  ResultUnit(r=0.8501753826530613, d=26.14814569928579, t=47.067872285842896),\n",
       "  ResultUnit(r=0.8501753826530613, d=26.14814569928579, t=45.47726917266846),\n",
       "  ResultUnit(r=0.8501753826530613, d=26.14814569928579, t=41.19688081741333),\n",
       "  ResultUnit(r=0.8501753826530613, d=26.14814569928579, t=44.15326905250549)],\n",
       " 'IMG_3799': [ResultUnit(r=0.5389891581632653, d=25.09885122754507, t=46.22006678581238),\n",
       "  ResultUnit(r=0.5389891581632653, d=25.09885122754507, t=47.92645978927612),\n",
       "  ResultUnit(r=0.5389891581632653, d=25.09885122754507, t=46.08636546134949),\n",
       "  ResultUnit(r=0.5389891581632653, d=25.09885122754507, t=46.91951656341553),\n",
       "  ResultUnit(r=0.5389891581632653, d=25.09885122754507, t=43.97383737564087)],\n",
       " 'IMG_4684': [ResultUnit(r=0.6812988945578231, d=32.70428826787405, t=47.435303926467896),\n",
       "  ResultUnit(r=0.6812988945578231, d=32.70428826787405, t=46.35144090652466),\n",
       "  ResultUnit(r=0.6812988945578231, d=32.70428826787405, t=42.36423921585083),\n",
       "  ResultUnit(r=0.6812988945578231, d=32.70428826787405, t=41.538772106170654),\n",
       "  ResultUnit(r=0.6812988945578231, d=32.70428826787405, t=45.921629905700684)],\n",
       " 'IMG_4700': [ResultUnit(r=1.2983843537414965, d=32.22226192929678, t=46.20525407791138),\n",
       "  ResultUnit(r=1.2983843537414965, d=32.22226192929678, t=43.764490604400635),\n",
       "  ResultUnit(r=1.2983843537414965, d=32.22226192929678, t=45.37349009513855),\n",
       "  ResultUnit(r=1.2983843537414965, d=32.22226192929678, t=44.546183347702026),\n",
       "  ResultUnit(r=1.2983843537414965, d=32.22226192929678, t=46.416807413101196)],\n",
       " 'IMG_6726': [ResultUnit(r=0.6686415816326531, d=34.51452186086111, t=37.22884941101074),\n",
       "  ResultUnit(r=0.6686415816326531, d=34.51452186086111, t=47.915663957595825),\n",
       "  ResultUnit(r=0.6686415816326531, d=34.51452186086111, t=42.175710916519165),\n",
       "  ResultUnit(r=0.6686415816326531, d=34.51452186086111, t=44.060816526412964),\n",
       "  ResultUnit(r=0.6686415816326531, d=34.51452186086111, t=44.96077275276184)],\n",
       " 'IMG_7136': [ResultUnit(r=0.852872999384426, d=26.12420132138662, t=35.97077798843384),\n",
       "  ResultUnit(r=0.852872999384426, d=26.12420132138662, t=29.14184808731079),\n",
       "  ResultUnit(r=0.852872999384426, d=26.12420132138662, t=30.267850875854492),\n",
       "  ResultUnit(r=0.852872999384426, d=26.12420132138662, t=28.518139839172363),\n",
       "  ResultUnit(r=0.852872999384426, d=26.12420132138662, t=30.446852684020996)],\n",
       " 'IMG_8176': [ResultUnit(r=0.6169122023809523, d=30.30303766705923, t=47.16977500915527),\n",
       "  ResultUnit(r=0.6169122023809523, d=30.30303766705923, t=48.246417760849),\n",
       "  ResultUnit(r=0.6169122023809523, d=30.30303766705923, t=46.88174843788147),\n",
       "  ResultUnit(r=0.6169122023809523, d=30.30303766705923, t=43.935978412628174),\n",
       "  ResultUnit(r=0.6169122023809523, d=30.30303766705923, t=46.532520055770874)],\n",
       " 'IMG_8795': [ResultUnit(r=0.1852224392456774, d=26.897905373358057, t=45.16824555397034),\n",
       "  ResultUnit(r=0.1852224392456774, d=26.897905373358057, t=45.956268072128296),\n",
       "  ResultUnit(r=0.1852224392456774, d=26.897905373358057, t=44.41053628921509),\n",
       "  ResultUnit(r=0.1852224392456774, d=26.897905373358057, t=43.46506214141846),\n",
       "  ResultUnit(r=0.1852224392456774, d=26.897905373358057, t=44.05285310745239)]}"
      ]
     },
     "execution_count": 22,
     "metadata": {},
     "output_type": "execute_result"
    }
   ],
   "source": [
    "anchor_results['mlic'].img_results"
   ]
  },
  {
   "cell_type": "code",
   "execution_count": 18,
   "metadata": {},
   "outputs": [
    {
     "data": {
      "text/plain": [
       "[ResultUnit(r=0.111838, d=34.59656407811575, t=7.004122018814087),\n",
       " ResultUnit(r=0.15802633333333332, d=35.056889557623194, t=6.711113452911377),\n",
       " ResultUnit(r=0.2859776666666667, d=35.93464186170034, t=7.957449197769165),\n",
       " ResultUnit(r=0.5346936666666666, d=37.41460731007986, t=9.545718908309937),\n",
       " ResultUnit(r=0.8464226666666667, d=39.11912968137197, t=9.798119306564331)]"
      ]
     },
     "execution_count": 18,
     "metadata": {},
     "output_type": "execute_result"
    }
   ],
   "source": [
    "ours_results[1.0].img_results[\"DSC08582\"]"
   ]
  },
  {
   "cell_type": "code",
   "execution_count": 19,
   "metadata": {},
   "outputs": [
    {
     "name": "stdout",
     "output_type": "stream",
     "text": [
      "DOG_4507 -7.160483448580757\n",
      "DSC07099 2.569438518850631\n",
      "DSC07705 -7.457320174363202\n",
      "DSC08582 4.790886850259035\n",
      "DSC08626 3.123450351795798\n",
      "DSC08672 -0.5137955105564918\n",
      "DSC08796 1.6610288973274878\n",
      "DSC08892 -7.913573947311803\n",
      "DSC08902 7.126521562800425\n",
      "DSC08928 -5.7433767915391005\n",
      "DSC08936 1.919416240202021\n",
      "DSC_3889 -8.411498182597022\n",
      "IMG_1813 -1.0160409994273034\n",
      "IMG_3227 1.3032148011393296\n",
      "IMG_3261 2.9540333060785295\n",
      "IMG_3412 -8.470568211565432\n",
      "IMG_3515 -7.97644370035192\n",
      "IMG_3799 -3.5568768349893976\n",
      "IMG_4684 -4.907141790469716\n",
      "IMG_4700 -4.797378268415942\n",
      "IMG_6726 -4.72208657904053\n",
      "IMG_7136 8.663630321939175\n",
      "IMG_8176 4.339522687875608\n",
      "IMG_8795 3.8156693520091434\n"
     ]
    },
    {
     "data": {
      "text/plain": [
       "-1.2658238145388099"
      ]
     },
     "execution_count": 19,
     "metadata": {},
     "output_type": "execute_result"
    }
   ],
   "source": [
    "ours_results[1.0].bd_rate(anchor_results[\"vtm\"])"
   ]
  },
  {
   "cell_type": "code",
   "execution_count": 20,
   "metadata": {},
   "outputs": [
    {
     "name": "stdout",
     "output_type": "stream",
     "text": [
      "DOG_4507 -1.9803538337364035\n",
      "DSC07099 -0.8713983097984102\n",
      "DSC07705 -0.15588270861085496\n",
      "DSC08582 -1.1758278329208394\n",
      "DSC08626 -2.331735048570094\n",
      "DSC08672 -0.23319853725128903\n",
      "DSC08796 -0.6226177895340745\n",
      "DSC08892 -3.900098091478843\n",
      "DSC08902 -3.345087277277914\n",
      "DSC08928 -1.955205673900673\n",
      "DSC08936 -3.618001171430152\n",
      "DSC_3889 -0.06826781157864836\n",
      "IMG_1813 -0.2514258709149675\n",
      "IMG_3227 -4.172526457902348\n",
      "IMG_3261 -3.8970745123768635\n",
      "IMG_3412 -1.547374238386856\n",
      "IMG_3515 -2.312244817642617\n",
      "IMG_3799 -1.6917699148478293\n",
      "IMG_4684 -1.1668401113377969\n",
      "IMG_4700 -2.5566250476707797\n",
      "IMG_6726 -3.7387223939160386\n",
      "IMG_7136 -0.3327221104147182\n",
      "IMG_8176 -2.530012068144405\n",
      "IMG_8795 -4.393841075783811\n"
     ]
    },
    {
     "data": {
      "text/plain": [
       "-2.0353688627261346"
      ]
     },
     "execution_count": 20,
     "metadata": {},
     "output_type": "execute_result"
    }
   ],
   "source": [
    "ours_results[1.0].bd_rate(anchor_results['qarv'])"
   ]
  }
 ],
 "metadata": {
  "kernelspec": {
   "display_name": "SARDCO",
   "language": "python",
   "name": "python3"
  },
  "language_info": {
   "codemirror_mode": {
    "name": "ipython",
    "version": 3
   },
   "file_extension": ".py",
   "mimetype": "text/x-python",
   "name": "python",
   "nbconvert_exporter": "python",
   "pygments_lexer": "ipython3",
   "version": "3.9.17"
  }
 },
 "nbformat": 4,
 "nbformat_minor": 2
}
