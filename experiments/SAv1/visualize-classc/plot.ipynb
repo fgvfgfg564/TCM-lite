{
 "cells": [
  {
   "cell_type": "code",
   "execution_count": 14,
   "metadata": {},
   "outputs": [],
   "source": [
    "import matplotlib.pyplot as plt\n",
    "import json\n",
    "\n",
    "%matplotlib inline\n",
    "\n",
    "H = 1280\n",
    "W = 1920"
   ]
  },
  {
   "cell_type": "code",
   "execution_count": 15,
   "metadata": {},
   "outputs": [],
   "source": [
    "import site\n",
    "site.addsitedir('../../..')"
   ]
  },
  {
   "cell_type": "code",
   "execution_count": 16,
   "metadata": {},
   "outputs": [],
   "source": [
    "# Load main data\n",
    "\n",
    "import os\n",
    "from dataclasses import dataclass\n",
    "import numpy as np\n",
    "\n",
    "\n",
    "@dataclass\n",
    "class Data:\n",
    "    time: float\n",
    "    psnr: float\n",
    "    legal: bool\n",
    "    stage: str\n",
    "    ans: np.ndarray\n",
    "\n",
    "\n",
    "levels = range(7)\n",
    "qscales = [0.3, 0.4, 0.5, 0.6, 0.7]\n",
    "timepoint = range(0, 300, 10)\n",
    "\n",
    "base_dir = (\n",
    "    \"/home/xyhang/projects/VCIP2023-grand-challenge/experiments/SAv1/visualize-classc/\"\n",
    ")\n",
    "\n",
    "# Load bpp info\n",
    "\n",
    "result_file = \"results_visualize.json\"\n",
    "\n",
    "with open(result_file, \"r\") as f:\n",
    "    result_data = json.load(f)"
   ]
  },
  {
   "cell_type": "code",
   "execution_count": 17,
   "metadata": {},
   "outputs": [],
   "source": [
    "import matplotlib"
   ]
  },
  {
   "cell_type": "code",
   "execution_count": 18,
   "metadata": {},
   "outputs": [],
   "source": [
    "filenames = [\n",
    "    \"DSC05885\",\n",
    "    \"DSC08121\",\n",
    "    \"DSC08723\",\n",
    "]\n",
    "\n",
    "def read_timeline_data(filename):\n",
    "    jsonfile = os.path.join(base_dir, \"PSNR/level-6/time_limit-1200/qscale-0.3/speedup-1.25\", f\"{filename}_statistics.json\")\n",
    "    with open(jsonfile, 'r') as f:\n",
    "        data = json.load(f)\n",
    "        results = []\n",
    "        for step_results in data[\"step_results\"]:\n",
    "            results.append(\n",
    "                Data(\n",
    "                    psnr=-step_results[\"best_loss\"],\n",
    "                    legal=step_results[\"legal\"],\n",
    "                    time=step_results[\"time\"],\n",
    "                    stage=step_results[\"stage\"],\n",
    "                    ans=step_results[\"best_results\"],\n",
    "                )\n",
    "            )\n",
    "        return results"
   ]
  },
  {
   "cell_type": "code",
   "execution_count": 19,
   "metadata": {},
   "outputs": [],
   "source": [
    "from src.fileio import FileIO\n",
    "\n",
    "qscale_idx = 0\n",
    "\n",
    "fileio = FileIO(h=H, w=W, ctu_size=512, mosaic=False)"
   ]
  },
  {
   "cell_type": "code",
   "execution_count": 20,
   "metadata": {},
   "outputs": [],
   "source": [
    "def hex_to_bgr(hex_color):\n",
    "    # Convert hex to RGB tuple\n",
    "    hex_color = hex_color.lstrip(\"#\")\n",
    "    rgb = tuple(int(hex_color[i : i + 2], 16) for i in (0, 2, 4))\n",
    "    # Convert RGB to BGR\n",
    "    bgr = (rgb[2], rgb[1], rgb[0])\n",
    "    return bgr\n",
    "\n",
    "colors_hex = [\"#A83411\", \"#ADA091\", \"#6D1E0D\", \"#39150D\", \"#D6D9D9\", \"#C4C78D\"]\n",
    "colors = [hex_to_bgr(color) for color in colors_hex]"
   ]
  },
  {
   "cell_type": "code",
   "execution_count": 21,
   "metadata": {},
   "outputs": [],
   "source": [
    "from typing import Optional\n",
    "import cv2\n",
    "\n",
    "def generate_chosen_result_in_img(method_ids, baseimg:Optional[np.ndarray] = None):\n",
    "    image = np.zeros_like(baseimg, np.uint8)\n",
    "    for i, bb in zip(method_ids, fileio.block_indexes):\n",
    "        cv2.rectangle(\n",
    "            image, (bb[1], bb[0]), (bb[3], bb[2]), color=colors[i], thickness=cv2.FILLED\n",
    "        )\n",
    "    if baseimg is not None:\n",
    "        image = cv2.addWeighted(baseimg, 0.4, image, 0.6, 0)\n",
    "    for i, bb in zip(method_ids, fileio.block_indexes):\n",
    "        cv2.rectangle(\n",
    "            image, (bb[1], bb[0]), (bb[3], bb[2]), color=(0, 0, 0), thickness=16\n",
    "        )\n",
    "    return image"
   ]
  },
  {
   "cell_type": "code",
   "execution_count": 22,
   "metadata": {},
   "outputs": [],
   "source": [
    "# Across images\n",
    "\n",
    "baseimg = cv2.imread('/home/xyhang/projects/VCIP2023-grand-challenge/images/ClassC-selected/DSC08723.png')"
   ]
  },
  {
   "cell_type": "code",
   "execution_count": 23,
   "metadata": {},
   "outputs": [],
   "source": [
    "with open('/home/xyhang/projects/VCIP2023-grand-challenge/experiments/SAv1/visualize-classc/PSNR/level-6/time_limit-300/qscale-0.3/speedup-1.25/DSC08723_statistics.json', 'r') as f:\n",
    "    results = json.load(f)"
   ]
  },
  {
   "cell_type": "code",
   "execution_count": 24,
   "metadata": {},
   "outputs": [
    {
     "name": "stdout",
     "output_type": "stream",
     "text": [
      "{'best_legal': True, 'best_loss': -38.77033633130219, 'best_results': [1, 1, 1, 1, 1, 0, 1, 1, 1, 1, 1, 1], 'legal': True, 'loss': -38.77033633130219, 'results': [1, 1, 1, 1, 1, 0, 1, 1, 1, 1, 1, 1], 'stage': 'init', 'step': 0, 'time': 6.53937407117337}\n"
     ]
    }
   ],
   "source": [
    "print(results['step_results'][0])"
   ]
  },
  {
   "cell_type": "code",
   "execution_count": 25,
   "metadata": {},
   "outputs": [
    {
     "name": "stdout",
     "output_type": "stream",
     "text": [
      "i; -38.77\n",
      "i; -39.29\n",
      "i; -39.31\n",
      "i; -39.37\n",
      "i; -39.37\n"
     ]
    }
   ],
   "source": [
    "for i in range(0, len(results['step_results']), 350):\n",
    "    step_results = results['step_results'][i]\n",
    "    out_img = generate_chosen_result_in_img(step_results[\"best_results\"], baseimg)\n",
    "    out_img = cv2.resize(out_img, (W // 4, H // 4))\n",
    "    cv2.imwrite(f\"output/step{i}.png\", out_img)\n",
    "    print(f\"i; {step_results['best_loss']:.2f}\")"
   ]
  }
 ],
 "metadata": {
  "kernelspec": {
   "display_name": "SARDCO",
   "language": "python",
   "name": "python3"
  },
  "language_info": {
   "codemirror_mode": {
    "name": "ipython",
    "version": 3
   },
   "file_extension": ".py",
   "mimetype": "text/x-python",
   "name": "python",
   "nbconvert_exporter": "python",
   "pygments_lexer": "ipython3",
   "version": "3.9.17"
  }
 },
 "nbformat": 4,
 "nbformat_minor": 2
}
