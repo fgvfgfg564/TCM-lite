{
 "cells": [
  {
   "cell_type": "code",
   "execution_count": 33,
   "metadata": {},
   "outputs": [],
   "source": [
    "import matplotlib.pyplot as plt\n",
    "import json\n",
    "\n",
    "%matplotlib inline"
   ]
  },
  {
   "cell_type": "code",
   "execution_count": 34,
   "metadata": {},
   "outputs": [],
   "source": [
    "# Load main data\n",
    "\n",
    "import os\n",
    "from dataclasses import dataclass\n",
    "import numpy as np\n",
    "\n",
    "\n",
    "@dataclass\n",
    "class Data:\n",
    "    time: float\n",
    "    psnr: float\n",
    "    legal: bool\n",
    "    stage: str\n",
    "    ans: np.ndarray\n",
    "\n",
    "\n",
    "levels = range(7)\n",
    "qscales = [0.3, 0.4, 0.5, 0.6, 0.7]\n",
    "timepoint = range(0, 600, 10)\n",
    "\n",
    "base_dir = (\n",
    "    \"/home/xyhang/projects/VCIP2023-grand-challenge/experiments/SAv1/visualize/\"\n",
    ")\n",
    "\n",
    "# Load bpp info\n",
    "\n",
    "result_file = \"results_visualize.json\"\n",
    "\n",
    "with open(result_file, \"r\") as f:\n",
    "    result_data = json.load(f)"
   ]
  },
  {
   "cell_type": "code",
   "execution_count": 35,
   "metadata": {},
   "outputs": [],
   "source": [
    "import matplotlib"
   ]
  },
  {
   "cell_type": "code",
   "execution_count": 36,
   "metadata": {},
   "outputs": [],
   "source": [
    "filenames = [\n",
    "    \"IMG_1813\",\n",
    "    \"IMG_3227\",\n",
    "    \"IMG_3515\",\n",
    "    \"IMG_3799\",\n",
    "    \"IMG_4700\",\n",
    "    \"IMG_6726\",\n",
    "    \"IMG_8176\",\n",
    "]\n",
    "\n",
    "def read_timeline_data(filename):\n",
    "    jsonfile = os.path.join(base_dir, \"PSNR/level-6/time_limit-1200/qscale-0.3/speedup-1.25\", f\"{filename}_statistics.json\")\n",
    "    with open(jsonfile, 'r') as f:\n",
    "        data = json.load(f)\n",
    "        results = []\n",
    "        for step_results in data[\"step_results\"]:\n",
    "            results.append(\n",
    "                Data(\n",
    "                    psnr=-step_results[\"best_loss\"],\n",
    "                    legal=step_results[\"legal\"],\n",
    "                    time=step_results[\"time\"],\n",
    "                    stage=step_results[\"stage\"],\n",
    "                    ans=step_results[\"best_results\"],\n",
    "                )\n",
    "            )\n",
    "        return results"
   ]
  },
  {
   "cell_type": "code",
   "execution_count": 37,
   "metadata": {},
   "outputs": [],
   "source": [
    "from src.fileio import FileIO\n",
    "\n",
    "qscale_idx = 0\n",
    "\n",
    "fileio = FileIO(h=4480, w=6720, ctu_size=512, mosaic=False)"
   ]
  },
  {
   "cell_type": "code",
   "execution_count": 56,
   "metadata": {},
   "outputs": [],
   "source": [
    "def hex_to_bgr(hex_color):\n",
    "    # Convert hex to RGB tuple\n",
    "    hex_color = hex_color.lstrip(\"#\")\n",
    "    rgb = tuple(int(hex_color[i : i + 2], 16) for i in (0, 2, 4))\n",
    "    # Convert RGB to BGR\n",
    "    bgr = (rgb[2], rgb[1], rgb[0])\n",
    "    return bgr\n",
    "\n",
    "colors_hex = [\"#A83411\", \"#ADA091\", \"#6D1E0D\", \"#39150D\", \"#D6D9D9\", \"#C4C78D\"]\n",
    "colors = [hex_to_bgr(color) for color in colors_hex]"
   ]
  },
  {
   "cell_type": "code",
   "execution_count": 66,
   "metadata": {},
   "outputs": [],
   "source": [
    "from typing import Optional\n",
    "import cv2\n",
    "\n",
    "def generate_chosen_result_in_img(method_ids, baseimg:Optional[np.ndarray] = None):\n",
    "    image = np.zeros((4480, 6720, 3), np.uint8)\n",
    "    for i, bb in zip(method_ids, fileio.block_indexes):\n",
    "        cv2.rectangle(\n",
    "            image, (bb[1], bb[0]), (bb[3], bb[2]), color=colors[i], thickness=cv2.FILLED\n",
    "        )\n",
    "    if baseimg is not None:\n",
    "        image = cv2.addWeighted(baseimg, 0.4, image, 0.6, 0)\n",
    "    for i, bb in zip(method_ids, fileio.block_indexes):\n",
    "        cv2.rectangle(\n",
    "            image, (bb[1], bb[0]), (bb[3], bb[2]), color=(0, 0, 0), thickness=16\n",
    "        )\n",
    "    return image"
   ]
  },
  {
   "cell_type": "code",
   "execution_count": 67,
   "metadata": {},
   "outputs": [
    {
     "name": "stderr",
     "output_type": "stream",
     "text": [
      "libpng warning: iCCP: known incorrect sRGB profile\n"
     ]
    }
   ],
   "source": [
    "# Across images\n",
    "\n",
    "baseimg = cv2.imread('/home/xyhang/projects/VCIP2023-grand-challenge/images/6720x4480/IMG_6726.png')"
   ]
  },
  {
   "cell_type": "code",
   "execution_count": 71,
   "metadata": {},
   "outputs": [],
   "source": [
    "with open('/home/xyhang/projects/VCIP2023-grand-challenge/experiments/SAv1/visualize/PSNR/level-6/time_limit-1200/qscale-0.3/speedup-1.25/IMG_6726_statistics.json', 'r') as f:\n",
    "    results = json.load(f)"
   ]
  },
  {
   "cell_type": "code",
   "execution_count": 69,
   "metadata": {},
   "outputs": [
    {
     "name": "stdout",
     "output_type": "stream",
     "text": [
      "{'best_legal': True, 'best_loss': -38.568346732390204, 'best_results': [1, 1, 1, 1, 1, 1, 1, 1, 1, 0, 1, 1, 1, 1, 1, 1, 1, 1, 1, 1, 1, 1, 1, 1, 1, 1, 1, 1, 1, 1, 1, 1, 1, 1, 1, 1, 1, 1, 1, 1, 1, 1, 1, 1, 1, 1, 1, 1, 1, 1, 1, 1, 1, 1, 1, 1, 1, 1, 1, 1, 1, 1, 1, 1, 1, 1, 1, 1, 1, 1, 1, 1, 1, 1, 1, 1, 1, 1, 1, 1, 1, 1, 1, 1, 1, 1, 1, 1, 1, 1, 1, 1, 1, 1, 1, 1, 1, 1, 1, 1, 1, 1, 1, 1, 1, 1, 1, 1, 1, 1, 1, 1, 1, 1, 1, 1, 1, 1, 1, 1, 1, 1, 1, 1, 1, 1], 'legal': True, 'loss': -38.568346732390204, 'results': [1, 1, 1, 1, 1, 1, 1, 1, 1, 0, 1, 1, 1, 1, 1, 1, 1, 1, 1, 1, 1, 1, 1, 1, 1, 1, 1, 1, 1, 1, 1, 1, 1, 1, 1, 1, 1, 1, 1, 1, 1, 1, 1, 1, 1, 1, 1, 1, 1, 1, 1, 1, 1, 1, 1, 1, 1, 1, 1, 1, 1, 1, 1, 1, 1, 1, 1, 1, 1, 1, 1, 1, 1, 1, 1, 1, 1, 1, 1, 1, 1, 1, 1, 1, 1, 1, 1, 1, 1, 1, 1, 1, 1, 1, 1, 1, 1, 1, 1, 1, 1, 1, 1, 1, 1, 1, 1, 1, 1, 1, 1, 1, 1, 1, 1, 1, 1, 1, 1, 1, 1, 1, 1, 1, 1, 1], 'stage': 'init', 'step': 0, 'time': 64.88242385885678}\n"
     ]
    }
   ],
   "source": [
    "print(results['step_results'][0])"
   ]
  },
  {
   "cell_type": "code",
   "execution_count": 72,
   "metadata": {},
   "outputs": [
    {
     "name": "stdout",
     "output_type": "stream",
     "text": [
      "i; -38.57\n",
      "i; -39.33\n",
      "i; -39.41\n",
      "i; -39.41\n",
      "i; -39.41\n",
      "i; -39.44\n",
      "i; -39.48\n"
     ]
    }
   ],
   "source": [
    "for i in range(0, len(results['step_results']), 350):\n",
    "    step_results = results['step_results'][i]\n",
    "    out_img = generate_chosen_result_in_img(step_results[\"best_results\"], baseimg)\n",
    "    out_img = cv2.resize(out_img, (6720 // 4, 4480 // 4))\n",
    "    cv2.imwrite(f\"output/step{i}.png\", out_img)\n",
    "    print(f\"i; {step_results['best_loss']:.2f}\")"
   ]
  }
 ],
 "metadata": {
  "kernelspec": {
   "display_name": "SARDCO",
   "language": "python",
   "name": "python3"
  },
  "language_info": {
   "codemirror_mode": {
    "name": "ipython",
    "version": 3
   },
   "file_extension": ".py",
   "mimetype": "text/x-python",
   "name": "python",
   "nbconvert_exporter": "python",
   "pygments_lexer": "ipython3",
   "version": "3.9.17"
  }
 },
 "nbformat": 4,
 "nbformat_minor": 2
}
